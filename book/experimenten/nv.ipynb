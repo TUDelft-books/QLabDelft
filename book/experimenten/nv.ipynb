{
 "cells": [
  {
   "cell_type": "markdown",
   "id": "45e5dcd0",
   "metadata": {
    "deletable": false,
    "editable": false
   },
   "source": [
    "# Diamant NV center \n",
    "**Het Zeeman-effect waanemen**\n",
    "practicum handleiding\n",
    "\n",
    "Versie: mei 2025\n",
    "Door: Rutger Ockhorst, Lodewijk Koopman en Mark Melotto, aanpassingen Silvester Infante Ferreira\n",
    "\n",
    "Contact docenten of leerlingen: qlab@tudelft.nl"
   ]
  },
  {
   "cell_type": "markdown",
   "id": "64a26f57",
   "metadata": {
    "deletable": false,
    "editable": false
   },
   "source": [
    "<img src=\"./media/nv/QDNL.png\" width=\"200\" align=\"left\"/><img src=\"./media/nv/TU_Delft_Logo.svg\" width=\"150\" align=\"left\"/>\n",
    "<br>\n",
    "\n",
    "Financiering: Quantum Delta NL / Nationaal Groeifonds"
   ]
  },
  {
   "cell_type": "markdown",
   "id": "0eae6114",
   "metadata": {
    "deletable": false,
    "editable": false
   },
   "source": [
    "# 1. Inleiding\n",
    "In dit experiment bestuderen we de invloed van een extern magnetisch veld op de spintoestand van elektronen. Concreet meten we de fluorescentie van stikstof-gat defecten in diamant(poeder) en de hoeveelheid fluorescentie verandert als we een magneet in de buurt van het poeder houden.\n",
    "\n",
    "Deze versie van de proef is vooral een kwalitatieve verkenning. Een uitgebreidere versie is in de maak, waarbij met hoge precisie de waarde van het magnetisch veld bepaald kan worden. De defecten in het diamantpoeder zijn een voorbeeld van een quantumsensor. Er is een NLT-module voor havo in de maak, werktitel __Quantum Ready__, waarbij in ieder hoofdstuk een stukje theorie achter deze proef wordt behandeld (licht, energie, fluorescentie, magnetisme).\n",
    "\n",
    "Hieronder volgt eerst een beknopte theoretische toelichting op en daarna instructies voor het uitvoeren van de proef. "
   ]
  },
  {
   "cell_type": "markdown",
   "id": "c3cae9b5",
   "metadata": {
    "deletable": false,
    "editable": false
   },
   "source": [
    "# 2. Theorie"
   ]
  },
  {
   "cell_type": "markdown",
   "id": "e23f4d6d",
   "metadata": {
    "deletable": false,
    "editable": false
   },
   "source": [
    "### 2.1 NV-centers in een diamantrooster\n",
    "<div>\n",
    "    <img src=\"./media/nv/rooster.jpg\" width=\"250\" align=\"right\"/>\n",
    "</div>\n",
    "<br>\n",
    "<br>\n",
    "\n",
    "Diamant is opgebouwd uit koolstofatomen in een rooster met een zgn. face centered cubic structuur. Behalve koolstofatomen kunnen er in het rooster ook defecten voorkomen, zoals gaten of andere atoomsoorten. Bij deze proef wordt gebruik gemaakt van stikstof-gat (nitrogen-vacancy of NV) defecten. Deze defecten kunnen in natuurlijke diamant voorkomen maar ook in het lab gemaakt worden. Kort door de bocht: de diamant groeit in een atmosfeer van stikstof gas, waardoor er stikstofatomen in het rooster verstrikt raken. Later worden er met gaten in het rooster geschoten, bijvoorbeeld met een elektronen bundel. Door de diamant te verhitten tot zo'n 900° Celsius migreren de gaten door het rooster heen naar de stikstofatomen. Zo ontstaat een stikstof-gat-paar (NV center). Diamanten met een hoge concentratie NV-centers zijn roze.\n",
    "\n",
    "Er wijzen vijf ongebonden elektronen naar het gat: drie van de naburige koolstofatomen en twee van het stikstofatoom (stikstof staat één plaats rechts van koolstof in het periodiek systeem). Het blijkt energetisch gunstig om een zesde elektron in te vangen in het gat. Zo ontstaat een negatief geladen NV$^{-}$-center. In deze toestand kan het NV-center worden gebruikt als qubit of magneetsensor.\n"
   ]
  },
  {
   "cell_type": "markdown",
   "id": "3e778aa8",
   "metadata": {
    "editable": false
   },
   "source": [
    "#### 2.1. 3D rooster bekijken\n",
    "Wil je het diamantrooster met NV center beter bekijken, voer dan met onderstaande cel uit. Dit kan door rechtsboven op de raket te drukken (live code execution) en vervolgens op run te klikken."
   ]
  },
  {
   "cell_type": "code",
   "execution_count": null,
   "id": "8bd2ed5e",
   "metadata": {},
   "outputs": [],
   "source": [
    "import numpy as np\n",
    "import matplotlib.pyplot as plt\n",
    "from mpl_toolkits.mplot3d.art3d import Line3DCollection\n",
    "from itertools import product, combinations\n",
    "from ipywidgets import interact, IntSlider\n",
    "\n",
    "coordinates = np.array([\n",
    "    [0.5, 0, 0.0], [0, 0.5, 0.0], [1, 0.5, 0.0], [0.5, 1, 0.0],\n",
    "    [0.25, 0.75, 0.25],\n",
    "    [0, 0, 0.5], [1, 0, 0.5], [0, 1, 0.5], [1, 1, 0.5],\n",
    "    [0.25, 0.25, 0.75], [0.75, 0.75, 0.75], \n",
    "    [0.5, 0, 1], [0, 0.5, 1], [1, 0.5, 1], [0.5, 1, 1],\n",
    "])\n",
    "\n",
    "N = np.array([0.75, 0.25, 0.25])\n",
    "V = np.array([0.5, 0.5, 0.5])\n",
    "all_coords = np.concatenate((coordinates, [V], [N]), axis=0)\n",
    "\n",
    "def distance(p1, p2):\n",
    "    return np.linalg.norm(p1 - p2)\n",
    "\n",
    "def find_nearest_neighbors(coords, threshold=0.6):\n",
    "    pairs = []\n",
    "    for i in range(len(coords)):\n",
    "        for j in range(i+1, len(coords)):\n",
    "            if distance(coords[i], coords[j]) <= threshold:\n",
    "                pairs.append((i, j))\n",
    "    return pairs\n",
    "\n",
    "def plot_atoms(elev=30, azim=30):\n",
    "    fig = plt.figure(figsize=(6,6))\n",
    "    ax = fig.add_subplot(111, projection='3d')\n",
    "\n",
    "    # Plot carbon atoms\n",
    "    for coord in coordinates:\n",
    "        ax.scatter(*coord, color='dimgrey', edgecolor='black', s=100)\n",
    "\n",
    "    # Special points\n",
    "    ax.scatter(*V, color='white', edgecolor='black', s=150)\n",
    "    ax.scatter(*N, color='blue', edgecolor='black', s=150)\n",
    "\n",
    "    # Draw bonds\n",
    "    neighbors = find_nearest_neighbors(all_coords)\n",
    "    for i, j in neighbors:\n",
    "        a1, a2 = all_coords[i], all_coords[j]\n",
    "        is_nv = np.any(np.all(a1 == V, axis=0)) or np.any(np.all(a2 == V, axis=0)) \\\n",
    "                or np.any(np.all(a1 == N, axis=0)) or np.any(np.all(a2 == N, axis=0))\n",
    "        linestyle = 'dashed' if is_nv else 'solid'\n",
    "        ax.plot([a1[0], a2[0]], [a1[1], a2[1]], [a1[2], a2[2]], color='green', linestyle=linestyle)\n",
    "\n",
    "    # Draw cube\n",
    "    for s, e in combinations(np.array(list(product([0, 1], repeat=3))), 2):\n",
    "        if np.sum(np.abs(s-e)) == 1:\n",
    "            ax.plot3D(*zip(s, e), color=\"blue\", linestyle='dashed')\n",
    "\n",
    "    ax.view_init(elev=elev, azim=azim)\n",
    "    ax.set_proj_type('ortho')\n",
    "    ax.set_box_aspect([1,1,1])\n",
    "    ax.axis('off')\n",
    "    plt.show()\n",
    "\n",
    "# Interactieve sliders met betere beginstand\n",
    "interact(plot_atoms, \n",
    "         elev=IntSlider(value=12, min=0, max=90, step=1, description='Elevatie'), \n",
    "         azim=IntSlider(value=82, min=0, max=360, step=1, description='Azimut')\n",
    "         );\n",
    "\n"
   ]
  },
  {
   "cell_type": "markdown",
   "id": "398db2c3",
   "metadata": {
    "editable": false
   },
   "source": [
    "### 2.2 Spintoestanden en energieniveaus\n",
    "Elektronen hebben een spin van ±½, vaak spin down (↓) en spin up (↑) genoemd. De elektronen in het NV-center zijn met elkaar verstrengeld en gedragen zich gezamenlijk als een systeem met spin 1. Dit levert (netto) de volgende toestanden op:\n",
    "\n",
    "Een singlet toestand: $\\frac{1}{\\sqrt{2}}$ (↓↑ − ↑↓)\n",
    "\n",
    "Drie triplet toestanden:\n",
    "*  $\\frac{1}{\\sqrt{2}}$ (↓↑ + ↑↓)\n",
    "*  ↑↑\n",
    "*  ↓↓\n",
    "\n",
    "__Vraag:__ wat zijn de spin-waardes van ieder van deze vier toestanden?\n",
    " \n",
    "In het onderstaande energieniveauschema zijn de grondtoestand en de aangeslagen niveaus van de triplet toestanden in de paarse vlakken aangegeven. De singlet toestand is in een geel vlak afgebeeld. Zoals je kunt zien is de energie van de singlet toestand hoger in energie dan de triplet-grondtoestanden. (N.B.: de overgangen tussen de toestanden kun je voor nu negeren, deze worden in 2.3 toegelicht).\n",
    "\n",
    "<div>\n",
    "<img src=\"./media/nv/NV-energy-levels.svg\" width=\"350\"/>\n",
    "</div>\n",
    "<center>(Diagram door BonPhire, BY-SA 4.0, https://en.wikipedia.org/wiki/File:NV-energy-levels.svg)</center>\n",
    "\n",
    "Zonder extern magnetisch veld hebben de energieniveaus van de ↑↑-toestand (m$_{s}$ = +1) en de ↓↓-toestand (m$_{s}$ = −1) dezelfde energie. Is er wel een extern magneetveld, dan splitsen deze energieniveaus op: dit wordt zeemansplitsing genoemd (naar Pieter Zeeman). De mate van opsplitsing hangt af van de sterkte van het magneetveld in de richting van het NV-centrum.\n",
    "\n",
    "__Vraag__: waarom verandert de laagste energietoestand niet onder invloed van een magnetisch veld?\n",
    "\n",
    "Hoe sterker het magnetisch veld, hoe dichter de energie van de m$_{s}$=-1 toestand bij de grondtoestand komt te liggen. Bij een magnetisch veld van 102.5 mT snijden de twee energieniveaus elkaar en bij een nog groter veld wordt dus de m$_{s}$=-1 toestand de grondtoestand. Dit is weergegeven in onderstaand diagram.\n",
    "\n",
    "<img src=\"./media/nv/mixing.png\" width=\"550\"/>\n",
    "<center>(Diagram door Patel et al., https://arxiv.org/abs/2306.17531)</center>\n",
    "\n",
    "Doordat de scheiding tussen de energietoestanden niet heel groot is (zeker in vergelijking met k$_{B}$T bij kamertemperatuur) zul je in (bij benadering) een superpositie mogen verwachten tussen de m$_{s}$=0 en m$_{s}$=-1 toestanden. Met het aanleggen van een extern magneetveld wordt de bijdrage van de m$_{s}$=-1 toestand in die superpositie steeds groter.\n",
    "\n",
    "\n",
    "\n"
   ]
  },
  {
   "cell_type": "markdown",
   "id": "29fcb9b7",
   "metadata": {},
   "source": [
    "### 2.3 Fluorescentie\n",
    "Een NV center fluoresceert onder invloed van groen (laser)licht. Dat is op onderstaande foto goed te zien.Je ziet een buisje met diamantpoeder met een hoge concentratie NV centers (3.5 ppm). Rechts wordt het buisje beschenen met een groene laser. De fluorescentie is met het blote oog te zien.\n",
    "\n",
    "<img src=\"./media/nv/Fluorescentie.jpg\" width=\"450\"/>\n",
    "\n",
    "Op onderstaande foto zie je je de fluorescerende diamantjes nog verder ingezoomd.\n",
    "\n",
    "<img src=\"./media/nv/diamant.jpg\" width=\"450\"/>\n",
    "\n",
    "Vanuit zowel de m$_{s}$ = 0 als vanuit de m$_{}s$ = ±1 toestand wordt het systeem door het groene licht aangeslagen naar een band van energietoestanden. Omdat de spin behouden is verliest het systeem eerst energie via niet-radiatieve, interne overgangen en komt het terecht in de aangeslagen triplettoestand met overeenkomend m$_{s}$-getal. Van daaruit valt het terug naar de grondtoestand onder uitzending van een rood foton met een golflengte van tussen de 650 en 750 nm (fluorescentie). Deze overgangen zijn weergegeven met de dikke groene en rode pijlen in figuur 1.\n",
    "\n",
    "<img src=\"./media/nv/NV-transitions.svg\" width=\"400\"/>\n",
    "(Diagram door BonPhire, BY-SA 4.0, https://commons.wikimedia.org/wiki/File:NV-transitions.svg)\n",
    "\n",
    "Er is daarnaast een kleine kans dat het NV center terugvalt via de tussengelegen singlet grondtoestand van de singlet toestand ($^{1}A_{1}$ in de figuur). In dit geval is spin niet behouden en dat maakt deze overgangen minder waarschijnlijk. Bij dit proces komt geen (zichtbaar) licht vrij. Dit niet-radiatieve verval is waarschijnlijker vanuit de m$_{s}$ = ±1 toestand dan vanuit de m$_{s}$ = 0 toestand. Zoals in 2.2 is beschreven neemt bij de kans, dat het NV center zich in de m$_{s}$ = -1 toestand bevindt, toe en daarmee neemt de hoeveelheid fluorescentie af. Zo geeft de mate van fluorescentie informatie over de spintoestand waarin het NV centrum zich bevindt en daarmee kan in principe de grootte van het extern magnetisch veld worden bepaald."
   ]
  },
  {
   "cell_type": "markdown",
   "id": "f9ee73cb",
   "metadata": {},
   "source": [
    "# 3. Proefopstelling"
   ]
  },
  {
   "cell_type": "markdown",
   "id": "efa1b2cc",
   "metadata": {
    "editable": false
   },
   "source": [
    "\n",
    "\n",
    "### 3.1 Kastje\n",
    "<div></div>\n",
    "De proefopstelling bestaat uit een lichtdicht doosje. In het doosje zie je aan het ene uiteinde een rood plaatje acrylaat. Achter het acrylaat bevindt zich een TSL2591 sensor voor Arduino, die met een fotodiode lichtintensiteit meet. Deze heeft een heel groot dynamisch bereik. Dat wil zeggen dat hij zeer gevoelig is voor (veranderingen) in lichtintensiteit. Het nadeel hiervan is dat de sensor (relatief) langzaam (hooguit 8 metingen per seconde).\n",
    "\n",
    "<div>\n",
    "    <img src=\"./media/nv/LaserTSL2.jpeg\" width=\"200\"/>\n",
    "</div>\n",
    "\n",
    "Aan de voorkant van het acrylaat is diamantpoeder met een hoge concentratie NV-centers gelijmd m.b.v. secondelijm. Vanaf de opening aan de andere kant van het doosje schijn je __STRAKS__ met een groene laser op het diamantpoeder.\n",
    "\n",
    "<div>\n",
    "    <img src=\"./media/nv/Laser.jpeg\" width=\"200\"/>\n",
    "</div>\n",
    "\n",
    "__Vraag:__ waarom is het acrylaat rood?\n",
    "\n",
    "Het kastje zal niet 100% licht dicht zijn. Om toch zo weinig mogelijk achtergrondsignaal te hebben kun je de zijdes van het kastje nog even goed samendrukken.\n",
    "\n",
    "\n",
    "### 3.2 Laser\n",
    "We gebruiken een 520 nm laser van Thorlabs met een USB-aansluiting. Wacht nog even met aansluiten. Steek de laser door het gat in het kastje en klem de laser vast met het extra strakke plaatje dat los in de behuizing licht. Doe (nog) niks met het dubbelzijdig tape dat op het plaatje zit. De laser moet worden uitgelijnd op het diamantpoeder. Met de laser in het doosje sluit je de USB-kabel aan op een vrije poort in de computer (of een andere USB-spanningsbron). De laser gaat pas aan enkele seconden nadat je op het zwarte knopje op de USB-stekker hebt geklikt.\n",
    "\n",
    "Probeer de laser zo goed mogelijk te richten op het diamantpoeder. Door de hoge brekingsindex van diamant zie je de korrels duidelijk oplichten / schitteren. Staat de laser goed uitgelijnd? Dan kun je het houten plaatje eventueel vastplakken met het dubbelzijdig tape, maar dat hoeft niet. Lukt het niet om de laser goed op de korrels te richten zijn er (negatieve) lensjes aanwezig om de laserbundel te verbreden. De intensiteit van het fluorescentiesignaal (straks) neemt hierdoor wel af.\n",
    "\n",
    "__Zet de laser weer UIT__: we gaan zo eerst experimenteren met een donker doosje. De laser moet het gat afsluiten, maar staat niet aan.\n",
    "\n",
    "### 3.3 Dekseltje\n",
    "Doe nu het dekseltje op het doosje om de boel af te sluiten. Dekseltje steekt bewust wat extra uit om schaduw te bieden. Als je de deksel weer van de doos haalt, koppel dan de Arduino (zie 3.4) even af. Anders moet je mogelijk lang wachten voordat de sensor weer stabiel is.\n",
    "\n",
    "### 3.4 Arduino\n",
    "De Arduino is al voorgeprogrammeerd en hoeft in principe alleen te worden aangesloten op de computer met een USB-kabel. \n",
    "\n",
    "De draden van de TSL2591 steken aan de zijkant uit het doosje. Deze moeten als volgt worden aangesloten op de Arduino: *(zorg dat bij het aansluiten de USB kabel niet is aangesloten)*\n",
    "\n",
    "*  Geel in SCL of A5 bij een UNO\n",
    "*  Blauw in SDA of A4 bij een UNO\n",
    "*  Zwart in GND\n",
    "*  Rood in 5V\n",
    "\n",
    "### 3.5 Vooruitblik verdere ontwikkeling\n",
    "<div>\n",
    "    <img src=\"./media/nv/Nederlands_verkeersbord_J16.svg\" width=\"100\" align=\"right\"/>\n",
    "</div>\n",
    "Voor we beginnen met meten benadrukken we dat de huidige proefopstelling _work in progress_ is. In de komende maanden worden nog verschillende verbeteringen verwacht, waaronder:\n",
    "\n",
    "*  Kwantitatief bepalen van magnetisch veld / Zeeman-splitsing m.b.v. resonantie met een RF-golf\n",
    "*  Verbeterde lichtdichtheid, o.a. door een groenfilter toe te voegen voor het roodfilter.\n",
    "*  Kleiner maken van de opstelling met betere uitlijning laser\n",
    "*  Aansturing via *stand alone* software / GUI\n",
    "\n",
    "De opstelling is beschikbaar in het **QuantumLab** bij de TU Delft voor profielwerkstukken havo (!) en vwo. Er is ook een NLT-module beschikbaar over quantum sensoren waar deze proef ook onderdeel van is. Voor meer informatie kun je contact opnemen met Rutger Ockhorst via qlab@tudelft.nl."
   ]
  },
  {
   "cell_type": "markdown",
   "id": "37e2e789",
   "metadata": {
    "editable": false
   },
   "source": [
    "# 4. Experimenteren\n",
    "Metingen kun je opstarten vanuit hoofdstuk 5. Voel je vrij om te experimenteren, maar we doen hieronder een paar suggesties om je op weg te helpen.\n",
    "\n",
    "Voordat je begint met meten: controleer steeds of je een stabiel signaal hebt. Soms kan de sensor enige tijd nodig hebben om te stabiliseren, bijvoorbeeld als het doosje net is open geweest en de sensor (over)belicht is.\n",
    "\n",
    "### 4.1 Gevoeligheid voor achtergrondlicht bepalen\n",
    "Voer een meting uit van 60 seconden met een dicht doosje, laser uit. Dit zou een signaal van 0 tot ongeveer 100 op mogen leveren. Lager is beter. Kijk of het kastje erg gevoelig is voor variaties in de omgeving. Hou je handen bijvoorbeeld eens om het kastje heen of schuif je stoel eens naar achter. In het ideale geval heeft dit geen invloed.\n",
    "\n",
    "### 4.2 Fluorescentiesignaal zonder extern magnetisch veld bepalen\n",
    "Zet de laser aan en doe een meting van 30 seconden. bij een goed uitgelijnde laser kun je een fluorescentiesignaal verwachten van 10k tot 20k. Heb je de negatieve lens gebruikt dan is 2k tot 4k te verwachten. Controleer of het signaal stabiel is (fluctuaties van minder dan een procent zijn ok). Het kan soms voorkomen dat de sensor langer nodig heeft om te stabiliseren. Dan zie je bijvoorbeeld een continu oplopend signaal. Herhaal de meting dan een aantal keer, misschien na stabiliseren van de laser of verplaatsen van het kastje, tot je een stabiel signaal ziet.\n",
    "\n",
    "### 4.3 Invloed van het magnetisch veld waarnemen\n",
    "<img src=\"./media/nv/magnet.png\"/>\n",
    "<br>\n",
    "Als je een stabiel signaal hebt kun je een meting doen met een extern magnetisch veld. Let op: de magneten die we hier gebruiken zijn sterk tot __zeer__ sterk. Houd je pinpas, laptop etc. dus uit de buurt. Controleer je werkplek ook op losliggende metalen onderdelen die door de magneet aangetrokken kunnen worden (misschien met je hand er tussen: auw!). Ben je klaar met de magneet, berg 'm dan op in de doos, laat ze absoluut niet los op tafel liggen.\n",
    "\n",
    "Er is een klein podium beschikbaar waar je de magneet op kunt leggen. De magneet ligt dan precies in lijn met de laser en het diamantpoeder. Zet je de magneet tegen de achterkant van het kastje aan dan is de afstand tot het poeder 1,5 cm. Er is op het podiumpje een schaalverdeling zichtbaar die begint bij 1,5 cm en oploopt in stappen van 0,5 cm. Onderzoekjes die je zou kunnen doen:\n",
    "\n",
    "*  hoe verandert het fluorescentiesignaal met de afstand tussen magneet en diamantpoeder?\n",
    "*  welk van de beschikbare magneten is sterker?\n",
    "*  ..."
   ]
  },
  {
   "cell_type": "markdown",
   "id": "c69ae6f7",
   "metadata": {
    "editable": false
   },
   "source": [
    "# 5. Meten\n",
    "\n",
    "### 5.1 Meting met opstelling\n",
    "Met de link hieronder wordt via javascript code de lichtsterkte die de Arduino meet weergegeven. Op de y-as staat de ruwe data van de sensor, dus in zeker opzicht _arbitrary units_, maar in principe is dit om te rekenen naar de lichtsterkte in lux. De sensor kan signalen tussen de 188 μlux en 88 klux meten. \n",
    "\n",
    "* Sluit de USB poort aan. \n",
    "* Open onderstaande link met een **Chrome** of Edge browser en \n",
    "* Geef de USB-poort toestemming.  \n",
    "* Laat de meting circa 20 seconden lopen voordat je gaat onderzoeken met een magneet.\n",
    "* Vergeet niet dat de laser aan moet staan (knopje op USB connector).\n",
    "\n",
    "<a href=\"./media/nv/NV_live_applet_nieuw.html\" target=\"_blank\">Open NV Live Applet</a>\n",
    "<br><br>\n",
    "Als alternatief is het ook mogelijk de html-pagina hieronder te downloaden en vervolgens te openen in een **Chrome** of Edge browser.\n",
    "{Download}`software<./media/nv/NV_live_applet_nieuw.html>`"
   ]
  },
  {
   "cell_type": "markdown",
   "id": "0dbc90bb",
   "metadata": {
    "editable": false
   },
   "source": [
    "### 5.2 Voorbeeld van een meting\n",
    "Hieronder een voorbeeld van een meetreeks. Verticaal staat (in willekeurige eenheid) de intensiteit van de fluorescentie. Rond 10 seconden wordt er een magneet bij het poeder gebracht en gehouden. Rond 22 seconden wordt de magneet weer (rustig) weg gehaald.\n",
    "<img src=\"./media/nv/VoorbeeldMeting.png\" width=\"400\"/>"
   ]
  },
  {
   "cell_type": "markdown",
   "id": "0ac064db",
   "metadata": {
    "editable": false
   },
   "source": [
    "# 6. Feedback\n",
    "Het experiment dat je zojuist hebt uitgevoerd is dus nog in ontwikkeling. We zijn heel benieuwd naar je ervaring. Als je feedback wil geven, vul dan het volgende Google Form in:\n",
    "\n",
    "https://forms.gle/wxKwAghYxAZhXb6N9"
   ]
  },
  {
   "cell_type": "code",
   "execution_count": null,
   "id": "a20dad58",
   "metadata": {},
   "outputs": [],
   "source": []
  }
 ],
 "metadata": {
  "celltoolbar": "Edit Metadata",
  "kernelspec": {
   "display_name": "Python 3 (ipykernel)",
   "language": "python",
   "name": "python3"
  }
 },
 "nbformat": 4,
 "nbformat_minor": 5
}
